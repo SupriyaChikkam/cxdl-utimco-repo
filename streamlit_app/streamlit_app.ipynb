{
 "cells": [
  {
   "cell_type": "code",
   "execution_count": 0,
   "metadata": {
    "application/vnd.databricks.v1+cell": {
     "cellMetadata": {},
     "inputWidgets": {},
     "nuid": "b2434d69-2ee6-485d-97f6-04151a59a42c",
     "showTitle": false,
     "tableResultSettingsMap": {},
     "title": ""
    }
   },
   "outputs": [],
   "source": [
    "import streamlit as st\n",
    "import yaml, os, subprocess\n",
    "\n",
    "# CONFIGS_DIR on DBFS, e.g. /dbfs/configs\n",
    "CONFIGS_DIR = \"/dbfs/configs\"\n",
    "\n",
    "st.title(\"Autoloader Pipeline Configurator\")\n",
    "\n",
    "# 1. Gather inputs\n",
    "name = st.text_input(\"Pipeline name\", value=\"example_pipeline\")\n",
    "source = st.text_input(\"Source path\", \"/mnt/raw-data/streaming-input\")\n",
    "target = st.text_input(\"Target base path\", \"/mnt/processed-data\")\n",
    "fmt = st.selectbox(\"File format\", [\"csv\",\"json\",\"parquet\"])\n",
    "have_hdr = st.checkbox(\"Has header row?\", True)\n",
    "layer = st.selectbox(\"Medallion layer\", [\"bronze\",\"silver\",\"gold\"])\n",
    "area = st.text_input(\"Subject area\", \"investments\")\n",
    "mode = st.radio(\"Mode\", [\"create\",\"append\",\"overwrite\"])\n",
    "\n",
    "# 2. Validation\n",
    "if mode in (\"append\",\"overwrite\") and layer==\"gold\":\n",
    "    st.error(\"Gold layer must be 'create' mode only.\")\n",
    "\n",
    "if st.button(\"Generate Config\"):\n",
    "    cfg = {\n",
    "      \"pipeline_name\": name,\n",
    "      \"source_path\": source,\n",
    "      \"target_base\": target,\n",
    "      \"format\": fmt,\n",
    "      \"schema\": {\"hasHeader\": have_hdr},\n",
    "      \"medallion\": layer,\n",
    "      \"subject_area\": area,\n",
    "      \"mode\": mode\n",
    "    }\n",
    "    path = os.path.join(CONFIGS_DIR, f\"{name}.yaml\")\n",
    "    with open(path, \"w\") as f:\n",
    "        yaml.safe_dump(cfg, f)\n",
    "    st.success(f\"Config written to `{path}`\")\n",
    "    st.code(yaml.safe_dump(cfg), language=\"yaml\")\n",
    "\n",
    "    # Optional: commit to Git\n",
    "    # subprocess.run([\"git\",\"add\", path])\n",
    "    # subprocess.run([\"git\",\"commit\",\"-m\", f\"Add config {name}\"])\n",
    "    # subprocess.run([\"git\",\"push\"])\n"
   ]
  }
 ],
 "metadata": {
  "application/vnd.databricks.v1+notebook": {
   "computePreferences": null,
   "dashboards": [],
   "environmentMetadata": {
    "base_environment": "",
    "environment_version": "2"
   },
   "inputWidgetPreferences": null,
   "language": "python",
   "notebookMetadata": {
    "pythonIndentUnit": 4
   },
   "notebookName": "streamlit_app",
   "widgets": {}
  },
  "language_info": {
   "name": "python"
  }
 },
 "nbformat": 4,
 "nbformat_minor": 0
}
