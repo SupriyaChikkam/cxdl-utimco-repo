{
 "cells": [
  {
   "cell_type": "code",
   "execution_count": 0,
   "metadata": {
    "application/vnd.databricks.v1+cell": {
     "cellMetadata": {},
     "inputWidgets": {},
     "nuid": "0ee0936e-ea11-4f38-9f44-289d823ae90e",
     "showTitle": false,
     "tableResultSettingsMap": {},
     "title": ""
    }
   },
   "outputs": [],
   "source": [
    "import yaml\n",
    "from pyspark.sql import SparkSession\n",
    "from pyspark.sql.functions import current_timestamp\n",
    "\n",
    "def load_config(path):\n",
    "    with open(path, \"r\") as f:\n",
    "        return yaml.safe_load(f)\n",
    "\n",
    "def run_autoloader(conf):\n",
    "    spark = SparkSession.builder.getOrCreate()\n",
    "\n",
    "    # build read stream\n",
    "    df = (\n",
    "        spark.readStream\n",
    "          .format(\"cloudFiles\")\n",
    "          .option(\"cloudFiles.format\", conf[\"format\"])\n",
    "          .option(\"cloudFiles.inferColumnTypes\", \"true\")\n",
    "          .option(\"header\", conf[\"schema\"][\"hasHeader\"])\n",
    "          .load(conf[\"source_path\"])\n",
    "    )\n",
    "\n",
    "    # apply basic transformations (add ingestion date)\n",
    "    df2 = df.withColumn(\"ingested_at\", current_timestamp())\n",
    "\n",
    "    # write to Delta in chosen layer folder\n",
    "    target = f\"{conf['target_base']}/{conf['medallion']}/{conf['subject_area']}\"\n",
    "    query = (\n",
    "        df2.writeStream\n",
    "           .format(\"delta\")\n",
    "           .outputMode(\"append\" if conf[\"mode\"]==\"append\" else \"overwrite\")\n",
    "           .option(\"checkpointLocation\", f\"{target}/_checkpoints/{conf['pipeline_name']}\")\n",
    "           .start(target)\n",
    "    )\n",
    "    query.awaitTermination()\n",
    "\n",
    "if __name__ == \"__main__\":\n",
    "    import sys\n",
    "    conf_path = sys.argv[1]  # e.g. \"/dbfs/configs/example_pipeline.yaml\"\n",
    "    conf = load_config(conf_path)\n",
    "    run_autoloader(conf)\n"
   ]
  }
 ],
 "metadata": {
  "application/vnd.databricks.v1+notebook": {
   "computePreferences": null,
   "dashboards": [],
   "environmentMetadata": {
    "base_environment": "",
    "environment_version": "2"
   },
   "inputWidgetPreferences": null,
   "language": "python",
   "notebookMetadata": {
    "pythonIndentUnit": 4
   },
   "notebookName": "autoloader",
   "widgets": {}
  },
  "language_info": {
   "name": "python"
  }
 },
 "nbformat": 4,
 "nbformat_minor": 0
}
