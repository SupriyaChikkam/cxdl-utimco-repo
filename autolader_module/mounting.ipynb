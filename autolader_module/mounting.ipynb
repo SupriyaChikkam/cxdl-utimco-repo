{
 "cells": [
  {
   "cell_type": "code",
   "execution_count": 0,
   "metadata": {
    "application/vnd.databricks.v1+cell": {
     "cellMetadata": {},
     "inputWidgets": {},
     "nuid": "c547a09f-7476-4a6e-9a76-12bbd09de5bd",
     "showTitle": false,
     "tableResultSettingsMap": {},
     "title": ""
    }
   },
   "outputs": [],
   "source": [
    "# In a notebook (e.g. SetupMounts)\n",
    "storage_account = \"mystorage\"\n",
    "container_raw = \"raw-data\"\n",
    "container_processed = \"processed-data\"\n",
    "key = dbutils.secrets.get(\"adls-scope\",\"storage-key\")\n",
    "\n",
    "configs = {\"fs.azure.account.key.\"+storage_account+\".dfs.core.windows.net\": key}\n",
    "\n",
    "dbutils.fs.mount(\n",
    "  source = f\"abfss://{container_raw}@{storage_account}.dfs.core.windows.net/\",\n",
    "  mount_point = \"/mnt/raw-data\",\n",
    "  extra_configs = configs)\n",
    "\n",
    "dbutils.fs.mount(\n",
    "  source = f\"abfss://{container_processed}@{storage_account}.dfs.core.windows.net/\",\n",
    "  mount_point = \"/mnt/processed-data\",\n",
    "  extra_configs = configs)"
   ]
  }
 ],
 "metadata": {
  "application/vnd.databricks.v1+notebook": {
   "computePreferences": null,
   "dashboards": [],
   "environmentMetadata": {
    "base_environment": "",
    "environment_version": "2"
   },
   "inputWidgetPreferences": null,
   "language": "python",
   "notebookMetadata": {
    "pythonIndentUnit": 4
   },
   "notebookName": "mounting",
   "widgets": {}
  },
  "language_info": {
   "name": "python"
  }
 },
 "nbformat": 4,
 "nbformat_minor": 0
}
